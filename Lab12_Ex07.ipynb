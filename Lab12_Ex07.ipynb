{
 "cells": [
  {
   "cell_type": "markdown",
   "metadata": {},
   "source": [
    "# Lab 12 Class Inheritance"
   ]
  },
  {
   "cell_type": "markdown",
   "metadata": {},
   "source": [
    "## การใช้งาน member ใน base class"
   ]
  },
  {
   "cell_type": "markdown",
   "metadata": {},
   "source": [
    "รัน mermaid diagram และพิจารณา class diagram"
   ]
  },
  {
   "cell_type": "code",
   "execution_count": null,
   "metadata": {
    "dotnet_interactive": {
     "language": "mermaid"
    },
    "polyglot_notebook": {
     "kernelName": "mermaid"
    }
   },
   "outputs": [],
   "source": [
    "classDiagram \n",
    "graph TD\n",
    "    class Pet {\n",
    "        -name : string\n",
    "        -species : string\n",
    "        +MakeSound() : void\n",
    "    }\n",
    "    class Dog {\n",
    "        -breed : string\n",
    "        +Bark() : void\n",
    "    }\n",
    "    class Cat {\n",
    "        -color : string\n",
    "        +Meow() : void\n",
    "    }\n",
    "    Pet <|-- Dog\n",
    "    Pet <|-- Cat"
   ]
  },
  {
   "cell_type": "markdown",
   "metadata": {},
   "source": [
    "คลาส __Pet__ เป็น Base class มีสมบัติพื้นฐานสำหรับสัตว์เลี้ยงทั่วไป ได้แก่ ชื่อ สายพันธ์ และการเปล่งเสียง\n",
    "\n",
    "คลาส __Dog__ เป็น Derived class สืบสมบัติพื้นฐานสำหรับสัตว์เลี้ยงทั่วไป ได้แก่ ชื่อ สายพันธ์ และการเปล่งเสียง นอกจากนั้นยังมีสมบัติของคลาสที่เพิ่มเช้ามา ได้แก่ breed (ซึ่งเป็นการพัฒนาคัดเลือกและผสมพันธ์โดยการดำเนินการของมนุษย์ เพื่อให้ได้ลักษณะเด่นตามที่ต้องการ) และสุนัขสามารถเห่าได้\n",
    "\n",
    "คลาส __Cat__ เป็น Derived class สืบสมบัติพื้นฐานสำหรับสัตว์เลี้ยงทั่วไปเช่นเดียวกับสุนัข นอกจากนั้นยังมีสมบัติของคลาสที่เพิ่มเช้ามา ได้แก่ สีและมีเสียงร้องที่เป็นเอกลักษณ์\n",
    "\n",
    "\n",
    "\n",
    "\n"
   ]
  },
  {
   "cell_type": "markdown",
   "metadata": {},
   "source": [
    "### การสร้างคลาสจากไดอะแกรมข้างต้นในภาษา C#"
   ]
  },
  {
   "cell_type": "markdown",
   "metadata": {},
   "source": [
    "#### สร้างคลาส Pet"
   ]
  },
  {
   "cell_type": "code",
   "execution_count": null,
   "metadata": {
    "dotnet_interactive": {
     "language": "csharp"
    },
    "polyglot_notebook": {
     "kernelName": "csharp"
    }
   },
   "outputs": [],
   "source": [
    "class Pet\n",
    "{\n",
    "    private string name;\n",
    "    private string species;\n",
    "\n",
    "    public void MakeSound()\n",
    "    {\n",
    "        Console.WriteLine(\"Animal can make sound.\");\n",
    "    }\n",
    "\n",
    "}"
   ]
  },
  {
   "cell_type": "markdown",
   "metadata": {},
   "source": [
    "#### ทดลองใช้งานคลาส Pet\n",
    "__หมายเหตุ__ ต้องรัน code call ด้านบนก่อน เพื่อให้ code cell ด้านล่างรู้จักคลาส Pet, และถ้ามีการแก้ไขคงาส Pet ต้องรัน code cell ใหม่ทุกครั้ง เพื่อให้การเปลี่ยนแปลงที่ได้กระทำไป ส่งผลต่อ code cell ด้านล่าง"
   ]
  },
  {
   "cell_type": "code",
   "execution_count": null,
   "metadata": {
    "dotnet_interactive": {
     "language": "csharp"
    },
    "polyglot_notebook": {
     "kernelName": "csharp"
    }
   },
   "outputs": [],
   "source": [
    "Pet pet = new Pet();\n",
    "pet.MakeSound();"
   ]
  },
  {
   "cell_type": "markdown",
   "metadata": {},
   "source": []
  },
  {
   "cell_type": "markdown",
   "metadata": {},
   "source": [
    "#### สร้างคลาส Dog"
   ]
  },
  {
   "cell_type": "markdown",
   "metadata": {},
   "source": [
    "สร้างคลาส Dog ที่สือทอดสมบัติจากคลาส Pet"
   ]
  },
  {
   "cell_type": "code",
   "execution_count": null,
   "metadata": {
    "dotnet_interactive": {
     "language": "csharp"
    },
    "polyglot_notebook": {
     "kernelName": "csharp"
    }
   },
   "outputs": [],
   "source": [
    "class Dog : Pet\n",
    "{\n",
    "    private string breed;\n",
    "    public void Bark()\n",
    "    {\n",
    "        Console.WriteLine(\"Box Box\");\n",
    "    }\n",
    "}"
   ]
  },
  {
   "cell_type": "markdown",
   "metadata": {},
   "source": [
    "#### ทดลองใช้งานคลาส Dog\n",
    "__หมายเหตุ__ ต้องรัน code call ด้านบนก่อน เพื่อให้ code cell ด้านล่างรู้จักคลาส Pet และ Dog, และถ้ามีการแก้ไขคลาส Pet และ Dog ต้องรัน code cell ใหม่ทุกครั้ง เพื่อให้การเปลี่ยนแปลงที่ได้กระทำไป ส่งผลต่อ code cell ด้านล่าง"
   ]
  },
  {
   "cell_type": "code",
   "execution_count": null,
   "metadata": {
    "dotnet_interactive": {
     "language": "csharp"
    },
    "polyglot_notebook": {
     "kernelName": "csharp"
    }
   },
   "outputs": [],
   "source": [
    "Dog d = new Dog();\n",
    "d.MakeSound();\n",
    "d.Bark();"
   ]
  },
  {
   "cell_type": "markdown",
   "metadata": {},
   "source": [
    "จากโค้ด จะเห็นว่า Dog สามารถ MakeSound() ได้โดยที่เราไม่ต้องเขียน Code สำหรับ MakeSound() เพราะได้รับสืบทอดสมบัติมาจาก Pet นั่นเอง"
   ]
  },
  {
   "cell_type": "markdown",
   "metadata": {},
   "source": [
    "#### สร้างคลาส Cat"
   ]
  },
  {
   "cell_type": "markdown",
   "metadata": {},
   "source": [
    "จากตัวย่างข้างต้น ให้นักศึกษาสร้างคลาส Cat เลียนแบบการสร้างคลาส Dog\n",
    "\n",
    "โดยใน Meow() ให้เขียนโค้ดเป็น  Console.WriteLine(\"Meow Meow\");"
   ]
  },
  {
   "cell_type": "code",
   "execution_count": null,
   "metadata": {
    "dotnet_interactive": {
     "language": "csharp"
    },
    "polyglot_notebook": {
     "kernelName": "csharp"
    }
   },
   "outputs": [],
   "source": [
    "class Cat : Pet\n",
    "{\n",
    "    private string breed;\n",
    "    public void Bark()\n",
    "    {\n",
    "        Console.WriteLine(\"Meow Meow\");\n",
    "    }\n",
    "}"
   ]
  },
  {
   "cell_type": "markdown",
   "metadata": {},
   "source": []
  },
  {
   "cell_type": "markdown",
   "metadata": {},
   "source": [
    "#### ทดลองใช้งานคลาส Cat\n",
    "\n",
    "เขียนโปรแกรมเช่นเดียวกับการเรียกใช้งานคลาส Dog  โดยให้เรียกใช้ MakeSound() และ Meow()\n"
   ]
  },
  {
   "cell_type": "code",
   "execution_count": null,
   "metadata": {
    "dotnet_interactive": {
     "language": "csharp"
    },
    "polyglot_notebook": {
     "kernelName": "csharp"
    }
   },
   "outputs": [],
   "source": [
    "Cat d = new Cat();\n",
    "d.MakeSound();\n",
    "d.Bark();"
   ]
  }
 ],
 "metadata": {
  "kernelspec": {
   "display_name": ".NET (C#)",
   "language": "C#",
   "name": ".net-csharp"
  },
  "polyglot_notebook": {
   "kernelInfo": {
    "defaultKernelName": "csharp",
    "items": [
     {
      "aliases": [],
      "languageName": "csharp",
      "name": "csharp"
     }
    ]
   }
  }
 },
 "nbformat": 4,
 "nbformat_minor": 2
}
