{
 "cells": [
  {
   "cell_type": "markdown",
   "metadata": {},
   "source": [
    "# Lab 12 Class Inheritance"
   ]
  },
  {
   "cell_type": "markdown",
   "metadata": {},
   "source": [
    "## Access overriding base class member (Methods)"
   ]
  },
  {
   "cell_type": "markdown",
   "metadata": {},
   "source": [
    "การเข้าถึงสมาชิกของ Base class ที่ถูกปิดบัง ทำได้โดยการแปลงชนิดข้อมูลไปยัง BaseClass เสียก่อน แล้วจึงเข้าถึงสมาชิกที่สืบทอดมาจาก base class นั้น "
   ]
  },
  {
   "cell_type": "markdown",
   "metadata": {},
   "source": [
    "สามารถทำได้ 2 แบบ คือ  \n",
    "\n",
    "1. ใช้วิธีการแปลงประเภท (Type Casting) หรือ การแปลงชนิดข้อมูล (Data Type Conversion)\n",
    "\n",
    "2. ใช้ keyword `'as'`"
   ]
  },
  {
   "cell_type": "markdown",
   "metadata": {},
   "source": [
    "1. สร้าง console application project\n",
    "\n",
    "```cmd\n",
    "dotnet new console --name Lab12_Ex10\n",
    "```"
   ]
  },
  {
   "cell_type": "markdown",
   "metadata": {},
   "source": [
    "2.เปลี่ยน code ให้เป็นดังต่อไปนี้\n",
    "\n",
    "```csharp\n",
    "// 1. ใช้วิธีการแปลงประเภท (Type Casting) หรือ การแปลงชนิดข้อมูล (Data Type Conversion)\n",
    "DerivedClass dc = new DerivedClass();\n",
    "Console.WriteLine(\"Use Type Casting or Data Type Conversion\");\n",
    "((BaseClass)dc).Greeting(); \n",
    "\n",
    "// 2. ใช้ keyword 'as'\n",
    "Console.WriteLine(\"------------\");\n",
    "Console.WriteLine(\"Use as keyword\");\n",
    "(dc as BaseClass).Greeting();\n",
    "\n",
    "class BaseClass\n",
    "{\n",
    "    public string Hello = \"Hello From BaseClass\";\n",
    "    public void Greeting()\n",
    "    {\n",
    "        Console.WriteLine(\"This is method in BaseClass\");\n",
    "        Console.WriteLine(Hello);\n",
    "    }\n",
    "\n",
    "}\n",
    "class DerivedClass : BaseClass\n",
    "{\n",
    "    public string Hello = \"Hello From DerivedClass\";\n",
    "    public void Greeting()\n",
    "    {\n",
    "        Console.WriteLine(\"This is method in DerivedClass\");\n",
    "        Console.WriteLine(Hello);\n",
    "    }\n",
    "}\n",
    "```"
   ]
  },
  {
   "cell_type": "markdown",
   "metadata": {},
   "source": [
    "3.Build project โดยการใช้คำสั่ง\n",
    "\n",
    "```cmd\n",
    "dotnet build  Lab12_Ex10\n",
    "```\n",
    "\n",
    "ถ้ามีที่ผิดพลาดในโปรแกรม ให้แก้ไขให้ถูกต้อง"
   ]
  },
  {
   "cell_type": "markdown",
   "metadata": {},
   "source": [
    "4.บันทึกผลที่ได้จากการรันคำสั่งในข้อ 3"
   ]
  },
  {
   "cell_type": "markdown",
   "metadata": {},
   "source": [
    "Build succeeded with 2 warning"
   ]
  },
  {
   "cell_type": "markdown",
   "metadata": {},
   "source": [
    "5.Run project โดยการใช้คำสั่ง\n",
    "\n",
    "```cmd\n",
    "dotnet run --project Lab12_Ex10\n",
    "```\n",
    "\n"
   ]
  },
  {
   "cell_type": "markdown",
   "metadata": {},
   "source": [
    "6.บันทึกผลที่ได้จากการรันคำสั่งในข้อ 5\n",
    "\n"
   ]
  },
  {
   "cell_type": "markdown",
   "metadata": {},
   "source": [
    "Use Type Casting or Data Type Conversion\n",
    "\n",
    "This is method in BaseClass\n",
    "\n",
    "Hello From BaseClass\n",
    "\n",
    "------------\n",
    "Use as keyword\n",
    "\n",
    "This is method in BaseClass\n",
    "\n",
    "Hello From BaseClass"
   ]
  },
  {
   "cell_type": "markdown",
   "metadata": {},
   "source": [
    "7.อธิบายสิ่งที่พบในการทดลอง"
   ]
  },
  {
   "cell_type": "markdown",
   "metadata": {},
   "source": [
    "การแปลงประเภท Type Casting ใช้ BaseClass dc เพื่อแปลง dc เป็น BaseClass สามารถเข้าถึงเมธอดของ BaseClass ได้"
   ]
  }
 ],
 "metadata": {
  "kernelspec": {
   "display_name": ".NET (C#)",
   "language": "C#",
   "name": ".net-csharp"
  },
  "polyglot_notebook": {
   "kernelInfo": {
    "defaultKernelName": "csharp",
    "items": [
     {
      "aliases": [],
      "languageName": "csharp",
      "name": "csharp"
     }
    ]
   }
  }
 },
 "nbformat": 4,
 "nbformat_minor": 2
}
